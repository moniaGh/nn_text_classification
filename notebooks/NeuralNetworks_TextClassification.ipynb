{
 "cells": [
  {
   "cell_type": "code",
   "execution_count": 40,
   "metadata": {},
   "outputs": [],
   "source": [
    "%reset -f"
   ]
  },
  {
   "cell_type": "code",
   "execution_count": 41,
   "metadata": {},
   "outputs": [],
   "source": [
    "import numpy as np\n",
    "import pandas as pd\n",
    "import tensorflow as tf\n",
    "import keras as k\n",
    "\n",
    "from sklearn.preprocessing import LabelEncoder\n",
    "from keras.preprocessing.text import Tokenizer\n",
    "from keras.preprocessing.sequence import pad_sequences\n",
    "from keras.utils import to_categorical\n",
    "from keras.layers import Dense, Input, Flatten,Dropout,BatchNormalization,Lambda\n",
    "from keras.layers import Conv1D,MaxPool1D,GlobalMaxPool1D,Embedding\n",
    "from keras.layers import LSTM,GRU,RNN, CuDNNLSTM,CuDNNGRU\n",
    "from keras.models import Sequential\n",
    "from keras.optimizers import Adam, Adagrad,Adadelta,Nadam\n",
    "from keras import callbacks\n",
    "from keras import regularizers\n",
    "from keras.utils import plot_model\n",
    "from keras.models import load_model\n",
    "\n",
    "from matplotlib import pyplot as plt \n",
    "%matplotlib inline "
   ]
  },
  {
   "cell_type": "code",
   "execution_count": 42,
   "metadata": {},
   "outputs": [],
   "source": [
    "train = pd.read_csv(\"train-1546603042473.csv\",na_values= [\"\"], encoding= \"utf-8\")\n",
    "test = pd.read_csv(\"test-1546603743049.csv\",na_values= [\"\"], encoding= \"utf-8\")"
   ]
  },
  {
   "cell_type": "code",
   "execution_count": 43,
   "metadata": {},
   "outputs": [
    {
     "data": {
      "text/plain": [
       "'1.10.1'"
      ]
     },
     "execution_count": 43,
     "metadata": {},
     "output_type": "execute_result"
    }
   ],
   "source": [
    "tf.__version__"
   ]
  },
  {
   "cell_type": "code",
   "execution_count": 44,
   "metadata": {},
   "outputs": [
    {
     "data": {
      "text/plain": [
       "'2.2.2'"
      ]
     },
     "execution_count": 44,
     "metadata": {},
     "output_type": "execute_result"
    }
   ],
   "source": [
    "k.__version__"
   ]
  },
  {
   "cell_type": "code",
   "execution_count": 45,
   "metadata": {},
   "outputs": [
    {
     "data": {
      "text/html": [
       "<div>\n",
       "<style scoped>\n",
       "    .dataframe tbody tr th:only-of-type {\n",
       "        vertical-align: middle;\n",
       "    }\n",
       "\n",
       "    .dataframe tbody tr th {\n",
       "        vertical-align: top;\n",
       "    }\n",
       "\n",
       "    .dataframe thead th {\n",
       "        text-align: right;\n",
       "    }\n",
       "</style>\n",
       "<table border=\"1\" class=\"dataframe\">\n",
       "  <thead>\n",
       "    <tr style=\"text-align: right;\">\n",
       "      <th></th>\n",
       "      <th>categories</th>\n",
       "      <th>converse</th>\n",
       "    </tr>\n",
       "  </thead>\n",
       "  <tbody>\n",
       "    <tr>\n",
       "      <th>0</th>\n",
       "      <td>QUERIES FROM PHARMACY</td>\n",
       "      <td>please to verify instructions for drugname pat...</td>\n",
       "    </tr>\n",
       "    <tr>\n",
       "      <th>1</th>\n",
       "      <td>NEW APPOINTMENT</td>\n",
       "      <td>lmovm for patients mother to and schd rov trac...</td>\n",
       "    </tr>\n",
       "    <tr>\n",
       "      <th>2</th>\n",
       "      <td>OTHERS</td>\n",
       "      <td>labtype and insurance approval other incoming ...</td>\n",
       "    </tr>\n",
       "    <tr>\n",
       "      <th>3</th>\n",
       "      <td>OTHERS</td>\n",
       "      <td>clinical list changes medfusion secure electro...</td>\n",
       "    </tr>\n",
       "    <tr>\n",
       "      <th>4</th>\n",
       "      <td>MEDICATION RELATED</td>\n",
       "      <td>wants to wean off medication work phone name d...</td>\n",
       "    </tr>\n",
       "  </tbody>\n",
       "</table>\n",
       "</div>"
      ],
      "text/plain": [
       "              categories                                           converse\n",
       "0  QUERIES FROM PHARMACY  please to verify instructions for drugname pat...\n",
       "1        NEW APPOINTMENT  lmovm for patients mother to and schd rov trac...\n",
       "2                 OTHERS  labtype and insurance approval other incoming ...\n",
       "3                 OTHERS  clinical list changes medfusion secure electro...\n",
       "4     MEDICATION RELATED  wants to wean off medication work phone name d..."
      ]
     },
     "execution_count": 45,
     "metadata": {},
     "output_type": "execute_result"
    }
   ],
   "source": [
    "train.head()"
   ]
  },
  {
   "cell_type": "code",
   "execution_count": 46,
   "metadata": {},
   "outputs": [
    {
     "data": {
      "text/html": [
       "<div>\n",
       "<style scoped>\n",
       "    .dataframe tbody tr th:only-of-type {\n",
       "        vertical-align: middle;\n",
       "    }\n",
       "\n",
       "    .dataframe tbody tr th {\n",
       "        vertical-align: top;\n",
       "    }\n",
       "\n",
       "    .dataframe thead th {\n",
       "        text-align: right;\n",
       "    }\n",
       "</style>\n",
       "<table border=\"1\" class=\"dataframe\">\n",
       "  <thead>\n",
       "    <tr style=\"text-align: right;\">\n",
       "      <th></th>\n",
       "      <th>id</th>\n",
       "      <th>converse</th>\n",
       "    </tr>\n",
       "  </thead>\n",
       "  <tbody>\n",
       "    <tr>\n",
       "      <th>0</th>\n",
       "      <td>1</td>\n",
       "      <td>request to speak with rn no given patients ref...</td>\n",
       "    </tr>\n",
       "    <tr>\n",
       "      <th>1</th>\n",
       "      <td>2</td>\n",
       "      <td>patients husband ret name spouse for other pat...</td>\n",
       "    </tr>\n",
       "    <tr>\n",
       "      <th>2</th>\n",
       "      <td>3</td>\n",
       "      <td>fyi in his szs mom other he has an appointment...</td>\n",
       "    </tr>\n",
       "    <tr>\n",
       "      <th>3</th>\n",
       "      <td>4</td>\n",
       "      <td>Rx refill drugname from pharmacy name reason f...</td>\n",
       "    </tr>\n",
       "    <tr>\n",
       "      <th>4</th>\n",
       "      <td>5</td>\n",
       "      <td>need more time for testing dad is requesting a...</td>\n",
       "    </tr>\n",
       "  </tbody>\n",
       "</table>\n",
       "</div>"
      ],
      "text/plain": [
       "   id                                           converse\n",
       "0   1  request to speak with rn no given patients ref...\n",
       "1   2  patients husband ret name spouse for other pat...\n",
       "2   3  fyi in his szs mom other he has an appointment...\n",
       "3   4  Rx refill drugname from pharmacy name reason f...\n",
       "4   5  need more time for testing dad is requesting a..."
      ]
     },
     "execution_count": 46,
     "metadata": {},
     "output_type": "execute_result"
    }
   ],
   "source": [
    "test.head()"
   ]
  },
  {
   "cell_type": "code",
   "execution_count": 47,
   "metadata": {},
   "outputs": [
    {
     "name": "stdout",
     "output_type": "stream",
     "text": [
      "(48699, 2)\n",
      "(8581, 2)\n"
     ]
    }
   ],
   "source": [
    "print(train.shape)\n",
    "print(test.shape)"
   ]
  },
  {
   "cell_type": "code",
   "execution_count": 48,
   "metadata": {
    "scrolled": true
   },
   "outputs": [
    {
     "name": "stdout",
     "output_type": "stream",
     "text": [
      "categories    object\n",
      "converse      object\n",
      "dtype: object\n",
      "id           int64\n",
      "converse    object\n",
      "dtype: object\n"
     ]
    }
   ],
   "source": [
    "print(train.dtypes)\n",
    "print(test.dtypes)"
   ]
  },
  {
   "cell_type": "markdown",
   "metadata": {},
   "source": [
    "### Preprocessing"
   ]
  },
  {
   "cell_type": "code",
   "execution_count": 49,
   "metadata": {},
   "outputs": [],
   "source": [
    "train[\"categories\"] = train[\"categories\"].astype(str)\n",
    "train[\"converse\"] = train[\"converse\"].astype(str)\n",
    "test[\"converse\"] = test[\"converse\"].astype(str)"
   ]
  },
  {
   "cell_type": "code",
   "execution_count": 50,
   "metadata": {},
   "outputs": [
    {
     "name": "stdout",
     "output_type": "stream",
     "text": [
      "(48699, 2)\n",
      "(8581, 2)\n"
     ]
    }
   ],
   "source": [
    "print(train.shape)\n",
    "print(test.shape)"
   ]
  },
  {
   "cell_type": "code",
   "execution_count": 51,
   "metadata": {},
   "outputs": [
    {
     "name": "stdout",
     "output_type": "stream",
     "text": [
      "Max length: 2440\n",
      "Mean length: 473.03648945563566\n",
      "Min length: 3\n"
     ]
    }
   ],
   "source": [
    "print(\"Max length: %s\" %train.converse.str.len().max())\n",
    "print(\"Mean length: %s\" %train.converse.str.len().mean())\n",
    "print(\"Min length: %s\" %train.converse.str.len().min())"
   ]
  },
  {
   "cell_type": "code",
   "execution_count": 52,
   "metadata": {},
   "outputs": [],
   "source": [
    "MAX_SEQ_LEN = 450\n",
    "VOCAB_SIZE = 20000"
   ]
  },
  {
   "cell_type": "code",
   "execution_count": 53,
   "metadata": {},
   "outputs": [],
   "source": [
    "tokenizer = Tokenizer(num_words = VOCAB_SIZE)\n",
    "tokenizer.fit_on_texts(train[\"converse\"])\n",
    "\n",
    "train_sequences = tokenizer.texts_to_sequences(train[\"converse\"])\n",
    "test_sequences = tokenizer.texts_to_sequences(test[\"converse\"])"
   ]
  },
  {
   "cell_type": "code",
   "execution_count": 54,
   "metadata": {},
   "outputs": [
    {
     "name": "stdout",
     "output_type": "stream",
     "text": [
      "Found 35747 unique tokens.\n"
     ]
    }
   ],
   "source": [
    "word_index = tokenizer.word_index\n",
    "print('Found %s unique tokens.' % len(word_index))"
   ]
  },
  {
   "cell_type": "code",
   "execution_count": 55,
   "metadata": {},
   "outputs": [
    {
     "name": "stdout",
     "output_type": "stream",
     "text": [
      "(48699, 450)\n",
      "(8581, 450)\n"
     ]
    }
   ],
   "source": [
    "train_data = pad_sequences(train_sequences, maxlen= MAX_SEQ_LEN)\n",
    "test_data = pad_sequences(test_sequences, maxlen= MAX_SEQ_LEN)\n",
    "print(train_data.shape)\n",
    "print(test_data.shape)"
   ]
  },
  {
   "cell_type": "code",
   "execution_count": 56,
   "metadata": {},
   "outputs": [
    {
     "name": "stdout",
     "output_type": "stream",
     "text": [
      "20000\n"
     ]
    }
   ],
   "source": [
    "print(len(np.unique(train_data)))"
   ]
  },
  {
   "cell_type": "code",
   "execution_count": 57,
   "metadata": {},
   "outputs": [],
   "source": [
    "train_labels = train['categories']"
   ]
  },
  {
   "cell_type": "code",
   "execution_count": 58,
   "metadata": {},
   "outputs": [
    {
     "name": "stdout",
     "output_type": "stream",
     "text": [
      "['CANCELLATION' 'CHANGE OF HOSPITAL' 'CHANGE OF PHARMACY'\n",
      " 'CHANGE OF PROVIDER' 'FOLLOW UP ON PREVIOUS REQUEST' 'JUNK' 'LAB RESULTS'\n",
      " 'MEDICATION RELATED' 'NEW APPOINTMENT' 'OTHERS' 'PRIOR AUTHORIZATION'\n",
      " 'PROVIDER' 'QUERIES FROM INSURANCE FIRM' 'QUERIES FROM PHARMACY'\n",
      " 'QUERY ON CURRENT APPOINTMENT' 'REFILL' 'RESCHEDULING'\n",
      " 'RUNNING LATE TO APPOINTMENT'\n",
      " 'SHARING OF HEALTH RECORDS (FAX, E-MAIL, ETC.)'\n",
      " 'SHARING OF LAB RECORDS (FAX, E-MAIL, ETC.)' 'SYMPTOMS']\n"
     ]
    }
   ],
   "source": [
    "label_encoder = LabelEncoder()\n",
    "label_encoder.fit(train_labels)\n",
    "train_labels = label_encoder.transform(train_labels)\n",
    "\n",
    "print(label_encoder.classes_)"
   ]
  },
  {
   "cell_type": "code",
   "execution_count": 59,
   "metadata": {},
   "outputs": [
    {
     "name": "stdout",
     "output_type": "stream",
     "text": [
      "(array([ 0,  1,  2,  3,  4,  5,  6,  7,  8,  9, 10, 11, 12, 13, 14, 15, 16,\n",
      "       17, 18, 19, 20]), array([ 564,  127,   47,  811,  304,   18, 2253, 9010, 8907, 6253, 1043,\n",
      "       1677,   91, 1464,  559, 8347, 1383,  590, 3018, 1212, 1021]))\n"
     ]
    }
   ],
   "source": [
    "print(np.unique(train_labels, return_counts = True))"
   ]
  },
  {
   "cell_type": "code",
   "execution_count": 60,
   "metadata": {},
   "outputs": [
    {
     "name": "stdout",
     "output_type": "stream",
     "text": [
      "('Train tensor shape:', (48699, 450))\n",
      "('Train labels tensor shape:', (48699, 21))\n"
     ]
    }
   ],
   "source": [
    "#convert to labels to one-hot-coded\n",
    "train_tensor = to_categorical(np.array(train_labels))\n",
    "\n",
    "print(\"Train tensor shape:\",train_data.shape)\n",
    "print(\"Train labels tensor shape:\",train_tensor.shape)"
   ]
  },
  {
   "cell_type": "markdown",
   "metadata": {},
   "source": [
    "### Building Convolutional Neural Network "
   ]
  },
  {
   "cell_type": "code",
   "execution_count": 61,
   "metadata": {},
   "outputs": [],
   "source": [
    "EMBEDDING_DIM = 100\n",
    "INITIALIZER = 'he_uniform'\n",
    "REGULARIZER = regularizers.l2(0.01)\n",
    "\n",
    "cnn_model = Sequential()\n",
    "cnn_model.add(Embedding(input_dim= VOCAB_SIZE, \n",
    "                    output_dim= EMBEDDING_DIM ,\n",
    "                    input_length= MAX_SEQ_LEN,\n",
    "                    embeddings_regularizer = REGULARIZER\n",
    "                   ))\n",
    "cnn_model.add(Conv1D(filters= 64, kernel_size= 3,activation= 'relu',\n",
    "                 kernel_initializer= INITIALIZER ,\n",
    "                 #kernel_regularizer= REGULARIZER\n",
    "                ))\n",
    "cnn_model.add(Conv1D(filters= 64, kernel_size= 5,activation= 'relu',\n",
    "                 kernel_initializer= INITIALIZER,\n",
    "                 #kernel_regularizer= REGULARIZER\n",
    "                 ))\n",
    "cnn_model.add(GlobalMaxPool1D())\n",
    "#cnn_model.add(MaxPool1D())\n",
    "cnn_model.add(Dropout(0.2))\n",
    "cnn_model.add(BatchNormalization())\n",
    "\n",
    "#cnn_model.add(Conv1D(filters= 64, kernel_size= 5,activation= 'relu',padding = 'same'))\n",
    "#cnn_model.add(Conv1D(filters= 64, kernel_size= 5,activation= 'relu',padding = 'same'))\n",
    "\n",
    "cnn_model.add(Dense(128, activation= 'relu'))\n",
    "cnn_model.add(Dropout(0.5))\n",
    "cnn_model.add(BatchNormalization())\n",
    "cnn_model.add(Dense(21,activation= 'softmax'))"
   ]
  },
  {
   "cell_type": "markdown",
   "metadata": {},
   "source": [
    "#### Configure the model for training"
   ]
  },
  {
   "cell_type": "code",
   "execution_count": 62,
   "metadata": {},
   "outputs": [
    {
     "name": "stdout",
     "output_type": "stream",
     "text": [
      "_________________________________________________________________\n",
      "Layer (type)                 Output Shape              Param #   \n",
      "=================================================================\n",
      "embedding_3 (Embedding)      (None, 450, 100)          2000000   \n",
      "_________________________________________________________________\n",
      "conv1d_3 (Conv1D)            (None, 448, 64)           19264     \n",
      "_________________________________________________________________\n",
      "conv1d_4 (Conv1D)            (None, 444, 64)           20544     \n",
      "_________________________________________________________________\n",
      "global_max_pooling1d_2 (Glob (None, 64)                0         \n",
      "_________________________________________________________________\n",
      "dropout_5 (Dropout)          (None, 64)                0         \n",
      "_________________________________________________________________\n",
      "batch_normalization_5 (Batch (None, 64)                256       \n",
      "_________________________________________________________________\n",
      "dense_5 (Dense)              (None, 128)               8320      \n",
      "_________________________________________________________________\n",
      "dropout_6 (Dropout)          (None, 128)               0         \n",
      "_________________________________________________________________\n",
      "batch_normalization_6 (Batch (None, 128)               512       \n",
      "_________________________________________________________________\n",
      "dense_6 (Dense)              (None, 21)                2709      \n",
      "=================================================================\n",
      "Total params: 2,051,605\n",
      "Trainable params: 2,051,221\n",
      "Non-trainable params: 384\n",
      "_________________________________________________________________\n"
     ]
    }
   ],
   "source": [
    "adam = Adam(lr=0.001)\n",
    "#adagrad = Adagrad()\n",
    "#adadelta = Adadelta()\n",
    "#nadam = Nadam(lr=0.001)\n",
    "cnn_model.compile(loss = 'categorical_crossentropy',\n",
    "             optimizer = adam,\n",
    "             metrics = ['accuracy']\n",
    "             )\n",
    "\n",
    "cnn_model.summary()\n",
    "metric = \"val_acc\""
   ]
  },
  {
   "cell_type": "markdown",
   "metadata": {},
   "source": [
    "#### Define callbacks"
   ]
  },
  {
   "cell_type": "code",
   "execution_count": 63,
   "metadata": {},
   "outputs": [],
   "source": [
    "reduce_lr = callbacks.ReduceLROnPlateau(monitor= metric, factor= 0.1,\n",
    "                                       patience= 10, min_lr= 0.00001,\n",
    "                                       verbose= 1)\n",
    "\n",
    "early_stop = callbacks.EarlyStopping(monitor= metric, mode= 'auto',\n",
    "                                     patience= 15,\n",
    "                                    verbose= 1)\n",
    "                                    #restore_best_weights= True)\n",
    "\n",
    "#file_path = \"cnn_weights.{epoch:02d}-{val_loss:.2f}.hdf5\"\n",
    "file_path = \"cnn_weights.hdf5\"\n",
    "model_chkpt = callbacks.ModelCheckpoint(filepath=file_path,monitor= metric, save_best_only=True)"
   ]
  },
  {
   "cell_type": "markdown",
   "metadata": {},
   "source": [
    "#### Fit the model"
   ]
  },
  {
   "cell_type": "code",
   "execution_count": 64,
   "metadata": {},
   "outputs": [
    {
     "name": "stdout",
     "output_type": "stream",
     "text": [
      "Train on 38959 samples, validate on 9740 samples\n",
      "Epoch 1/1000\n",
      "38959/38959 [==============================] - 11s 293us/step - loss: 2.5941 - acc: 0.5524 - val_loss: 1.3293 - val_acc: 0.6992\n",
      "Epoch 2/1000\n",
      "38959/38959 [==============================] - 9s 220us/step - loss: 1.3677 - acc: 0.6801 - val_loss: 1.1958 - val_acc: 0.7144\n",
      "Epoch 3/1000\n",
      "38959/38959 [==============================] - 8s 217us/step - loss: 1.2640 - acc: 0.6987 - val_loss: 1.1256 - val_acc: 0.7180\n",
      "Epoch 4/1000\n",
      "38959/38959 [==============================] - 8s 217us/step - loss: 1.2157 - acc: 0.7041 - val_loss: 1.1215 - val_acc: 0.7249\n",
      "Epoch 5/1000\n",
      "38959/38959 [==============================] - 8s 215us/step - loss: 1.1900 - acc: 0.7103 - val_loss: 1.1184 - val_acc: 0.7155\n",
      "Epoch 6/1000\n",
      "38959/38959 [==============================] - 8s 216us/step - loss: 1.1726 - acc: 0.7152 - val_loss: 1.1199 - val_acc: 0.7215\n",
      "Epoch 7/1000\n",
      "38959/38959 [==============================] - 8s 218us/step - loss: 1.1551 - acc: 0.7189 - val_loss: 1.0808 - val_acc: 0.7217\n",
      "Epoch 8/1000\n",
      "38959/38959 [==============================] - 8s 218us/step - loss: 1.1447 - acc: 0.7186 - val_loss: 1.0672 - val_acc: 0.7278\n",
      "Epoch 9/1000\n",
      "38959/38959 [==============================] - 9s 221us/step - loss: 1.1366 - acc: 0.7188 - val_loss: 1.0899 - val_acc: 0.7286\n",
      "Epoch 10/1000\n",
      "38959/38959 [==============================] - 9s 219us/step - loss: 1.1310 - acc: 0.7239 - val_loss: 1.0731 - val_acc: 0.7313\n",
      "Epoch 11/1000\n",
      "38959/38959 [==============================] - 8s 217us/step - loss: 1.1204 - acc: 0.7218 - val_loss: 1.0706 - val_acc: 0.7263\n",
      "Epoch 12/1000\n",
      "38959/38959 [==============================] - 9s 222us/step - loss: 1.1158 - acc: 0.7272 - val_loss: 1.0607 - val_acc: 0.7300\n",
      "Epoch 13/1000\n",
      "38959/38959 [==============================] - 9s 219us/step - loss: 1.1099 - acc: 0.7275 - val_loss: 1.0674 - val_acc: 0.7335\n",
      "Epoch 14/1000\n",
      "38959/38959 [==============================] - 9s 229us/step - loss: 1.1027 - acc: 0.7258 - val_loss: 1.0840 - val_acc: 0.7295\n",
      "Epoch 15/1000\n",
      "38959/38959 [==============================] - 9s 223us/step - loss: 1.1006 - acc: 0.7307 - val_loss: 1.0625 - val_acc: 0.7323\n",
      "Epoch 16/1000\n",
      "38959/38959 [==============================] - 9s 224us/step - loss: 1.0956 - acc: 0.7280 - val_loss: 1.0538 - val_acc: 0.7328\n",
      "Epoch 17/1000\n",
      "38959/38959 [==============================] - 9s 223us/step - loss: 1.0838 - acc: 0.7314 - val_loss: 1.0763 - val_acc: 0.7299\n",
      "Epoch 18/1000\n",
      "38959/38959 [==============================] - 9s 219us/step - loss: 1.0860 - acc: 0.7330 - val_loss: 1.0426 - val_acc: 0.7354\n",
      "Epoch 19/1000\n",
      "38959/38959 [==============================] - 9s 223us/step - loss: 1.0882 - acc: 0.7325 - val_loss: 1.0427 - val_acc: 0.7391\n",
      "Epoch 20/1000\n",
      "38959/38959 [==============================] - 9s 221us/step - loss: 1.0751 - acc: 0.7361 - val_loss: 1.0480 - val_acc: 0.7328\n",
      "Epoch 21/1000\n",
      "38959/38959 [==============================] - 9s 221us/step - loss: 1.0792 - acc: 0.7326 - val_loss: 1.0680 - val_acc: 0.7325\n",
      "Epoch 22/1000\n",
      "38959/38959 [==============================] - 9s 223us/step - loss: 1.0758 - acc: 0.7384 - val_loss: 1.0706 - val_acc: 0.7339\n",
      "Epoch 23/1000\n",
      "38959/38959 [==============================] - 9s 230us/step - loss: 1.0797 - acc: 0.7350 - val_loss: 1.0678 - val_acc: 0.7320\n",
      "Epoch 24/1000\n",
      "38959/38959 [==============================] - 9s 224us/step - loss: 1.0724 - acc: 0.7381 - val_loss: 1.0686 - val_acc: 0.7303\n",
      "Epoch 25/1000\n",
      "38959/38959 [==============================] - 9s 221us/step - loss: 1.0746 - acc: 0.7392 - val_loss: 1.0755 - val_acc: 0.7332\n",
      "Epoch 26/1000\n",
      "38959/38959 [==============================] - 9s 219us/step - loss: 1.0598 - acc: 0.7411 - val_loss: 1.0666 - val_acc: 0.7367\n",
      "Epoch 27/1000\n",
      "38959/38959 [==============================] - 8s 213us/step - loss: 1.0657 - acc: 0.7381 - val_loss: 1.0576 - val_acc: 0.7387\n",
      "Epoch 28/1000\n",
      "38959/38959 [==============================] - 8s 208us/step - loss: 1.0572 - acc: 0.7403 - val_loss: 1.0770 - val_acc: 0.7342\n",
      "Epoch 29/1000\n",
      "38959/38959 [==============================] - 9s 222us/step - loss: 1.0613 - acc: 0.7399 - val_loss: 1.0732 - val_acc: 0.7348\n",
      "\n",
      "Epoch 00029: ReduceLROnPlateau reducing learning rate to 0.00010000000475.\n",
      "Epoch 30/1000\n",
      "38959/38959 [==============================] - 9s 223us/step - loss: 0.8995 - acc: 0.7629 - val_loss: 0.9115 - val_acc: 0.7412\n",
      "Epoch 31/1000\n",
      "38959/38959 [==============================] - 9s 228us/step - loss: 0.7953 - acc: 0.7737 - val_loss: 0.8833 - val_acc: 0.7464\n",
      "Epoch 32/1000\n",
      "38959/38959 [==============================] - 9s 233us/step - loss: 0.7541 - acc: 0.7829 - val_loss: 0.8744 - val_acc: 0.7461\n",
      "Epoch 33/1000\n",
      "38959/38959 [==============================] - 9s 224us/step - loss: 0.7268 - acc: 0.7875 - val_loss: 0.8827 - val_acc: 0.7450\n",
      "Epoch 34/1000\n",
      "38959/38959 [==============================] - 9s 221us/step - loss: 0.7004 - acc: 0.7981 - val_loss: 0.8870 - val_acc: 0.7422\n",
      "Epoch 35/1000\n",
      "38959/38959 [==============================] - 8s 215us/step - loss: 0.6789 - acc: 0.8039 - val_loss: 0.8976 - val_acc: 0.7439\n",
      "Epoch 36/1000\n",
      "38959/38959 [==============================] - 8s 215us/step - loss: 0.6615 - acc: 0.8086 - val_loss: 0.9097 - val_acc: 0.7406\n",
      "Epoch 37/1000\n",
      "38959/38959 [==============================] - 8s 215us/step - loss: 0.6425 - acc: 0.8172 - val_loss: 0.9278 - val_acc: 0.7410\n",
      "Epoch 38/1000\n",
      "38959/38959 [==============================] - 8s 217us/step - loss: 0.6301 - acc: 0.8223 - val_loss: 0.9414 - val_acc: 0.7405\n",
      "Epoch 39/1000\n",
      "38959/38959 [==============================] - 9s 220us/step - loss: 0.6095 - acc: 0.8314 - val_loss: 0.9511 - val_acc: 0.7368\n",
      "Epoch 40/1000\n",
      "38959/38959 [==============================] - 8s 218us/step - loss: 0.5967 - acc: 0.8344 - val_loss: 0.9693 - val_acc: 0.7379\n",
      "Epoch 41/1000\n",
      "38959/38959 [==============================] - 8s 216us/step - loss: 0.5786 - acc: 0.8421 - val_loss: 0.9831 - val_acc: 0.7400\n",
      "\n",
      "Epoch 00041: ReduceLROnPlateau reducing learning rate to 1.0000000475e-05.\n",
      "Epoch 42/1000\n",
      "38959/38959 [==============================] - 9s 222us/step - loss: 0.5454 - acc: 0.8548 - val_loss: 0.9833 - val_acc: 0.7388\n",
      "Epoch 43/1000\n",
      "38959/38959 [==============================] - 9s 223us/step - loss: 0.5305 - acc: 0.8589 - val_loss: 0.9849 - val_acc: 0.7387\n",
      "Epoch 44/1000\n",
      "38959/38959 [==============================] - 8s 218us/step - loss: 0.5151 - acc: 0.8655 - val_loss: 0.9864 - val_acc: 0.7374\n",
      "Epoch 45/1000\n",
      "38959/38959 [==============================] - 9s 224us/step - loss: 0.5061 - acc: 0.8673 - val_loss: 0.9881 - val_acc: 0.7372\n",
      "Epoch 46/1000\n",
      "38959/38959 [==============================] - 9s 222us/step - loss: 0.4999 - acc: 0.8696 - val_loss: 0.9910 - val_acc: 0.7374\n",
      "Epoch 00046: early stopping\n"
     ]
    }
   ],
   "source": [
    "history = cnn_model.fit(train_data , train_tensor ,\n",
    "         batch_size = 64, shuffle = True,\n",
    "         epochs=1000,validation_split = 0.2,\n",
    "         callbacks = [reduce_lr,early_stop,model_chkpt]\n",
    "         )"
   ]
  },
  {
   "cell_type": "markdown",
   "metadata": {},
   "source": [
    "#### Capture the model metrics"
   ]
  },
  {
   "cell_type": "code",
   "execution_count": 65,
   "metadata": {},
   "outputs": [],
   "source": [
    "train_acc = history.history['acc']\n",
    "train_loss = history.history['loss']\n",
    "\n",
    "val_acc = history.history['val_acc']\n",
    "val_loss = history.history['val_loss']"
   ]
  },
  {
   "cell_type": "markdown",
   "metadata": {},
   "source": [
    "#### Plot the Model accuracies and losses"
   ]
  },
  {
   "cell_type": "code",
   "execution_count": 66,
   "metadata": {
    "scrolled": true
   },
   "outputs": [
    {
     "data": {
      "image/png": "[encoded data removed]",
      "text/plain": [
       "<Figure size 1440x360 with 2 Axes>"
      ]
     },
     "metadata": {},
     "output_type": "display_data"
    }
   ],
   "source": [
    "plt.figure(figsize=(20,5))\n",
    "ax = plt.subplot(1,2,1)\n",
    "ax.set_title(\"Model Loss\")\n",
    "plt.xlabel('Epochs')\n",
    "plt.ylabel('Loss')\n",
    "plt.plot(train_loss , label =\"Train Loss\")\n",
    "plt.plot(val_loss, label =\"Val Loss\")\n",
    "plt.legend()\n",
    "\n",
    "ax = plt.subplot(1,2,2)\n",
    "ax.set_title(\"Model Accuracy\")\n",
    "plt.xlabel('Epochs')\n",
    "plt.ylabel('Accuracy')\n",
    "plt.plot(train_acc, label = \"Train Accuracy\")\n",
    "plt.plot(val_acc, label = \"Val Accuracy\")\n",
    "plt.legend()\n",
    "plt.show();"
   ]
  },
  {
   "cell_type": "code",
   "execution_count": 67,
   "metadata": {},
   "outputs": [
    {
     "name": "stdout",
     "output_type": "stream",
     "text": [
      "48699/48699 [==============================] - 3s 65us/step\n",
      "('Train Loss: 0.696461', 'Train Accuracy: 0.798066')\n"
     ]
    }
   ],
   "source": [
    "best_weights_cnn = load_model(file_path)\n",
    "evaluation = best_weights_cnn.evaluate(train_data,train_tensor)\n",
    "print(\"Train Loss: %f\"%evaluation[0] , \"Train Accuracy: %f\"%evaluation[1])"
   ]
  },
  {
   "cell_type": "markdown",
   "metadata": {},
   "source": [
    "### &nbsp;\n",
    "### Building CuDNNLSTM model"
   ]
  },
  {
   "cell_type": "code",
   "execution_count": 68,
   "metadata": {},
   "outputs": [],
   "source": [
    "EMBEDDING_DIM = 100\n",
    "INITIALIZER = 'he_uniform'\n",
    "REGULARIZER = regularizers.l2(0.01)\n",
    "\n",
    "cuDNN_LSTM_model = Sequential()\n",
    "cuDNN_LSTM_model.add(Embedding(input_dim= VOCAB_SIZE, \n",
    "                    output_dim= EMBEDDING_DIM ,\n",
    "                    input_length= MAX_SEQ_LEN,\n",
    "                    embeddings_regularizer = REGULARIZER\n",
    "                   ))\n",
    "#cuDNN_LSTM_model.add(Lambda(lambda x: tf.expand_dims(cuDNN_LSTM_model.output, axis=-1)))\n",
    "cuDNN_LSTM_model.add(CuDNNLSTM(128 ,#activation= 'relu',\n",
    "               return_sequences=True,\n",
    "               name=\"lstm_1\"\n",
    "              ))\n",
    "cuDNN_LSTM_model.add(CuDNNLSTM(64 ,#activation= 'relu',\n",
    "               return_sequences=False,\n",
    "               name=\"lstm_2\"\n",
    "              ))\n",
    "cuDNN_LSTM_model.add(Dropout(0.2))\n",
    "cuDNN_LSTM_model.add(BatchNormalization())\n",
    "\n",
    "cuDNN_LSTM_model.add(Dense(128,activation= 'relu'))\n",
    "cuDNN_LSTM_model.add(Dropout(0.5))\n",
    "cuDNN_LSTM_model.add(BatchNormalization())\n",
    "cuDNN_LSTM_model.add(Dense(21,activation= 'softmax'))"
   ]
  },
  {
   "cell_type": "code",
   "execution_count": 69,
   "metadata": {},
   "outputs": [
    {
     "name": "stdout",
     "output_type": "stream",
     "text": [
      "_________________________________________________________________\n",
      "Layer (type)                 Output Shape              Param #   \n",
      "=================================================================\n",
      "embedding_4 (Embedding)      (None, 450, 100)          2000000   \n",
      "_________________________________________________________________\n",
      "lstm_1 (CuDNNLSTM)           (None, 450, 128)          117760    \n",
      "_________________________________________________________________\n",
      "lstm_2 (CuDNNLSTM)           (None, 64)                49664     \n",
      "_________________________________________________________________\n",
      "dropout_7 (Dropout)          (None, 64)                0         \n",
      "_________________________________________________________________\n",
      "batch_normalization_7 (Batch (None, 64)                256       \n",
      "_________________________________________________________________\n",
      "dense_7 (Dense)              (None, 128)               8320      \n",
      "_________________________________________________________________\n",
      "dropout_8 (Dropout)          (None, 128)               0         \n",
      "_________________________________________________________________\n",
      "batch_normalization_8 (Batch (None, 128)               512       \n",
      "_________________________________________________________________\n",
      "dense_8 (Dense)              (None, 21)                2709      \n",
      "=================================================================\n",
      "Total params: 2,179,221\n",
      "Trainable params: 2,178,837\n",
      "Non-trainable params: 384\n",
      "_________________________________________________________________\n"
     ]
    }
   ],
   "source": [
    "adam = Adam(lr=0.001)\n",
    "#adagrad = Adagrad()\n",
    "#adadelta = Adadelta()\n",
    "#nadam = Nadam(lr=0.001)\n",
    "cuDNN_LSTM_model.compile(loss = 'categorical_crossentropy',\n",
    "             optimizer = adam,\n",
    "             metrics = ['accuracy']\n",
    "             )\n",
    "\n",
    "cuDNN_LSTM_model.summary()"
   ]
  },
  {
   "cell_type": "code",
   "execution_count": 70,
   "metadata": {},
   "outputs": [],
   "source": [
    "reduce_lr = callbacks.ReduceLROnPlateau(monitor= metric, factor= 0.1,\n",
    "                                       patience= 10, min_lr= 0.00001,\n",
    "                                       verbose= 1)\n",
    "\n",
    "early_stop = callbacks.EarlyStopping(monitor= metric, mode= 'auto',\n",
    "                                     patience= 15,\n",
    "                                    verbose= 1)\n",
    "                                     #restore_best_weights= True)\n",
    "\n",
    "#file_path = \"cnn4_weights.{epoch:02d}-{val_loss:.2f}.hdf5\"\n",
    "file_path = \"cudnn_lstm_weights.hdf5\"\n",
    "model_chkpt = callbacks.ModelCheckpoint(filepath=file_path,monitor= metric, save_best_only=True)"
   ]
  },
  {
   "cell_type": "code",
   "execution_count": 71,
   "metadata": {},
   "outputs": [
    {
     "name": "stdout",
     "output_type": "stream",
     "text": [
      "Train on 38959 samples, validate on 9740 samples\n",
      "Epoch 1/1000\n",
      "38959/38959 [==============================] - 34s 872us/step - loss: 2.5144 - acc: 0.4939 - val_loss: 1.8192 - val_acc: 0.5520\n",
      "Epoch 2/1000\n",
      "38959/38959 [==============================] - 32s 818us/step - loss: 1.6478 - acc: 0.5745 - val_loss: 1.7453 - val_acc: 0.5604\n",
      "Epoch 3/1000\n",
      "38959/38959 [==============================] - 32s 831us/step - loss: 1.6529 - acc: 0.5766 - val_loss: 1.4954 - val_acc: 0.6174\n",
      "Epoch 4/1000\n",
      "38959/38959 [==============================] - 32s 811us/step - loss: 1.6545 - acc: 0.5776 - val_loss: 2.8305 - val_acc: 0.3899\n",
      "Epoch 5/1000\n",
      "38959/38959 [==============================] - 31s 802us/step - loss: 1.6570 - acc: 0.5747 - val_loss: 1.5512 - val_acc: 0.6154\n",
      "Epoch 6/1000\n",
      "38959/38959 [==============================] - 32s 817us/step - loss: 1.5123 - acc: 0.6240 - val_loss: 1.6417 - val_acc: 0.6011\n",
      "Epoch 7/1000\n",
      "38959/38959 [==============================] - 32s 822us/step - loss: 1.4589 - acc: 0.6309 - val_loss: 1.3429 - val_acc: 0.6505\n",
      "Epoch 8/1000\n",
      "38959/38959 [==============================] - 31s 803us/step - loss: 1.4203 - acc: 0.6428 - val_loss: 1.3169 - val_acc: 0.6641\n",
      "Epoch 9/1000\n",
      "38959/38959 [==============================] - 32s 822us/step - loss: 1.3488 - acc: 0.6580 - val_loss: 1.2892 - val_acc: 0.6808\n",
      "Epoch 10/1000\n",
      "38959/38959 [==============================] - 32s 809us/step - loss: 1.2359 - acc: 0.6904 - val_loss: 1.2152 - val_acc: 0.7011\n",
      "Epoch 11/1000\n",
      "38959/38959 [==============================] - 32s 822us/step - loss: 1.2876 - acc: 0.6742 - val_loss: 1.2868 - val_acc: 0.6841\n",
      "Epoch 12/1000\n",
      "38959/38959 [==============================] - 32s 815us/step - loss: 1.2514 - acc: 0.6874 - val_loss: 1.1599 - val_acc: 0.7078\n",
      "Epoch 13/1000\n",
      "38959/38959 [==============================] - 31s 808us/step - loss: 1.1818 - acc: 0.7035 - val_loss: 1.1132 - val_acc: 0.7103\n",
      "Epoch 14/1000\n",
      "38959/38959 [==============================] - 32s 813us/step - loss: 1.1314 - acc: 0.7112 - val_loss: 1.0587 - val_acc: 0.7240\n",
      "Epoch 15/1000\n",
      "38959/38959 [==============================] - 32s 822us/step - loss: 1.1204 - acc: 0.7157 - val_loss: 1.0922 - val_acc: 0.7171\n",
      "Epoch 16/1000\n",
      "38959/38959 [==============================] - 32s 826us/step - loss: 1.1946 - acc: 0.6984 - val_loss: 1.1480 - val_acc: 0.6979\n",
      "Epoch 17/1000\n",
      "38959/38959 [==============================] - 32s 813us/step - loss: 1.1336 - acc: 0.7117 - val_loss: 1.1033 - val_acc: 0.7180\n",
      "Epoch 18/1000\n",
      "38959/38959 [==============================] - 33s 842us/step - loss: 1.1026 - acc: 0.7171 - val_loss: 1.0872 - val_acc: 0.7100\n",
      "Epoch 19/1000\n",
      "38959/38959 [==============================] - 32s 821us/step - loss: 1.0786 - acc: 0.7189 - val_loss: 1.0361 - val_acc: 0.7300\n",
      "Epoch 20/1000\n",
      "38959/38959 [==============================] - 32s 817us/step - loss: 1.0610 - acc: 0.7219 - val_loss: 1.0685 - val_acc: 0.7112\n",
      "Epoch 21/1000\n",
      "38959/38959 [==============================] - 32s 827us/step - loss: 1.0476 - acc: 0.7219 - val_loss: 0.9957 - val_acc: 0.7340\n",
      "Epoch 22/1000\n",
      "38959/38959 [==============================] - 32s 815us/step - loss: 1.0364 - acc: 0.7277 - val_loss: 1.0088 - val_acc: 0.7329\n",
      "Epoch 23/1000\n",
      "38959/38959 [==============================] - 32s 815us/step - loss: 1.0236 - acc: 0.7278 - val_loss: 1.0150 - val_acc: 0.7246\n",
      "Epoch 24/1000\n",
      "38959/38959 [==============================] - 32s 814us/step - loss: 1.0167 - acc: 0.7284 - val_loss: 1.0405 - val_acc: 0.7276\n",
      "Epoch 25/1000\n",
      "38959/38959 [==============================] - 31s 798us/step - loss: 1.0302 - acc: 0.7251 - val_loss: 0.9792 - val_acc: 0.7315\n",
      "Epoch 26/1000\n",
      "38959/38959 [==============================] - 32s 813us/step - loss: 0.9996 - acc: 0.7316 - val_loss: 0.9938 - val_acc: 0.7266\n",
      "Epoch 27/1000\n",
      "38959/38959 [==============================] - 32s 821us/step - loss: 0.9869 - acc: 0.7320 - val_loss: 1.0272 - val_acc: 0.7247\n",
      "Epoch 28/1000\n",
      "38959/38959 [==============================] - 33s 841us/step - loss: 0.9788 - acc: 0.7326 - val_loss: 0.9777 - val_acc: 0.7293\n",
      "Epoch 29/1000\n",
      "38959/38959 [==============================] - 32s 825us/step - loss: 0.9766 - acc: 0.7335 - val_loss: 1.0041 - val_acc: 0.7186\n",
      "Epoch 30/1000\n",
      "38959/38959 [==============================] - 32s 824us/step - loss: 0.9665 - acc: 0.7356 - val_loss: 0.9738 - val_acc: 0.7298\n",
      "Epoch 31/1000\n",
      "38959/38959 [==============================] - 32s 811us/step - loss: 0.9565 - acc: 0.7369 - val_loss: 0.9725 - val_acc: 0.7293\n",
      "\n",
      "Epoch 00031: ReduceLROnPlateau reducing learning rate to 0.00010000000475.\n",
      "Epoch 32/1000\n",
      "38959/38959 [==============================] - 32s 829us/step - loss: 0.8366 - acc: 0.7581 - val_loss: 0.8573 - val_acc: 0.7460\n",
      "Epoch 33/1000\n",
      "38959/38959 [==============================] - 31s 792us/step - loss: 0.7887 - acc: 0.7652 - val_loss: 0.8413 - val_acc: 0.7450\n",
      "Epoch 34/1000\n",
      "38959/38959 [==============================] - 32s 810us/step - loss: 0.7690 - acc: 0.7694 - val_loss: 0.8552 - val_acc: 0.7443\n",
      "Epoch 35/1000\n",
      "38959/38959 [==============================] - 32s 811us/step - loss: 0.7530 - acc: 0.7735 - val_loss: 0.8452 - val_acc: 0.7452\n",
      "Epoch 36/1000\n",
      "38959/38959 [==============================] - 33s 841us/step - loss: 0.7436 - acc: 0.7742 - val_loss: 0.8532 - val_acc: 0.7429\n",
      "Epoch 37/1000\n",
      "38959/38959 [==============================] - 31s 808us/step - loss: 0.7292 - acc: 0.7778 - val_loss: 0.8593 - val_acc: 0.7430\n",
      "Epoch 38/1000\n",
      "38959/38959 [==============================] - 31s 808us/step - loss: 0.7191 - acc: 0.7835 - val_loss: 0.8705 - val_acc: 0.7430\n",
      "Epoch 39/1000\n",
      "38959/38959 [==============================] - 32s 827us/step - loss: 0.7097 - acc: 0.7868 - val_loss: 0.8821 - val_acc: 0.7387\n",
      "Epoch 40/1000\n",
      "38959/38959 [==============================] - 32s 816us/step - loss: 0.7027 - acc: 0.7886 - val_loss: 0.8857 - val_acc: 0.7400\n",
      "Epoch 41/1000\n",
      "38959/38959 [==============================] - 32s 820us/step - loss: 0.6955 - acc: 0.7911 - val_loss: 0.9007 - val_acc: 0.7383\n",
      "Epoch 42/1000\n",
      "38959/38959 [==============================] - 31s 808us/step - loss: 0.6766 - acc: 0.7997 - val_loss: 0.9072 - val_acc: 0.7401\n",
      "\n",
      "Epoch 00042: ReduceLROnPlateau reducing learning rate to 1.0000000475e-05.\n",
      "Epoch 43/1000\n",
      "38959/38959 [==============================] - 32s 811us/step - loss: 0.6352 - acc: 0.8143 - val_loss: 0.9190 - val_acc: 0.7406\n",
      "Epoch 44/1000\n",
      "38959/38959 [==============================] - 32s 810us/step - loss: 0.6250 - acc: 0.8167 - val_loss: 0.9243 - val_acc: 0.7376\n",
      "Epoch 45/1000\n",
      "38959/38959 [==============================] - 32s 809us/step - loss: 0.6187 - acc: 0.8176 - val_loss: 0.9335 - val_acc: 0.7373\n",
      "Epoch 46/1000\n",
      "38959/38959 [==============================] - 32s 814us/step - loss: 0.6118 - acc: 0.8208 - val_loss: 0.9369 - val_acc: 0.7369\n",
      "Epoch 47/1000\n",
      "38959/38959 [==============================] - 32s 824us/step - loss: 0.6054 - acc: 0.8230 - val_loss: 0.9496 - val_acc: 0.7368\n",
      "Epoch 00047: early stopping\n"
     ]
    }
   ],
   "source": [
    "history = cuDNN_LSTM_model.fit(train_data , train_tensor ,\n",
    "         batch_size = 64, shuffle = True,\n",
    "         epochs=1000,validation_split = 0.2,\n",
    "         callbacks = [reduce_lr,early_stop,model_chkpt]\n",
    "         )"
   ]
  },
  {
   "cell_type": "code",
   "execution_count": 72,
   "metadata": {},
   "outputs": [],
   "source": [
    "train_acc = history.history['acc']\n",
    "train_loss = history.history['loss']\n",
    "\n",
    "val_acc = history.history['val_acc']\n",
    "val_loss = history.history['val_loss']"
   ]
  },
  {
   "cell_type": "code",
   "execution_count": 73,
   "metadata": {},
   "outputs": [
    {
     "data": {
      "image/png": "[encoded data removed]",
      "text/plain": [
       "<Figure size 1440x360 with 2 Axes>"
      ]
     },
     "metadata": {},
     "output_type": "display_data"
    }
   ],
   "source": [
    "plt.figure(figsize=(20,5))\n",
    "ax = plt.subplot(1,2,1)\n",
    "ax.set_title(\"Model Loss\")\n",
    "plt.xlabel('Epochs')\n",
    "plt.ylabel('Loss')\n",
    "plt.plot(train_loss , label =\"Train Loss\")\n",
    "plt.plot(val_loss, label =\"Val Loss\")\n",
    "plt.legend()\n",
    "\n",
    "ax = plt.subplot(1,2,2)\n",
    "ax.set_title(\"Model Accuracy\")\n",
    "plt.xlabel('Epochs')\n",
    "plt.ylabel('Accuracy')\n",
    "plt.plot(train_acc, label = \"Train Accuracy\")\n",
    "plt.plot(val_acc, label = \"Val Accuracy\")\n",
    "plt.legend()\n",
    "plt.show();"
   ]
  },
  {
   "cell_type": "code",
   "execution_count": 74,
   "metadata": {},
   "outputs": [
    {
     "name": "stdout",
     "output_type": "stream",
     "text": [
      "48699/48699 [==============================] - 29s 586us/step\n",
      "('Train Loss: 0.746703', 'Train Accuracy: 0.772788')\n"
     ]
    }
   ],
   "source": [
    "best_weights_lstm = load_model(file_path)\n",
    "evaluation = best_weights_lstm.evaluate(train_data,train_tensor)\n",
    "print(\"Train Loss: %f\"%evaluation[0] , \"Train Accuracy: %f\"%evaluation[1])"
   ]
  },
  {
   "cell_type": "markdown",
   "metadata": {},
   "source": [
    "### &nbsp;\n",
    "### Building CuDNNGRU model"
   ]
  },
  {
   "cell_type": "code",
   "execution_count": 75,
   "metadata": {},
   "outputs": [],
   "source": [
    "EMBEDDING_DIM = 100\n",
    "INITIALIZER = 'he_uniform'\n",
    "REGULARIZER = regularizers.l2(0.01)\n",
    "\n",
    "cuDNN_GRU_model = Sequential()\n",
    "cuDNN_GRU_model.add(Embedding(input_dim= VOCAB_SIZE, \n",
    "                    output_dim= EMBEDDING_DIM ,\n",
    "                    input_length= MAX_SEQ_LEN,\n",
    "                    embeddings_regularizer = REGULARIZER\n",
    "                   ))\n",
    "\n",
    "\n",
    "#cuDNN_GRU_model.add(Lambda(lambda x: tf.expand_dims(cuDNN_GRU_model.output, axis=-1)))\n",
    "cuDNN_GRU_model.add(CuDNNGRU(128, return_sequences= True)) \n",
    "cuDNN_GRU_model.add(CuDNNGRU(64, return_sequences= True))\n",
    "cuDNN_GRU_model.add(CuDNNGRU(32, return_sequences= False))\n",
    "cuDNN_GRU_model.add(Dropout(0.2))\n",
    "cuDNN_GRU_model.add(BatchNormalization())\n",
    "\n",
    "cuDNN_GRU_model.add(Dense(128,activation= 'relu'))\n",
    "cuDNN_GRU_model.add(Dropout(0.5))\n",
    "cuDNN_GRU_model.add(BatchNormalization())\n",
    "cuDNN_GRU_model.add(Dense(21,activation= 'softmax'))"
   ]
  },
  {
   "cell_type": "code",
   "execution_count": 76,
   "metadata": {},
   "outputs": [
    {
     "name": "stdout",
     "output_type": "stream",
     "text": [
      "_________________________________________________________________\n",
      "Layer (type)                 Output Shape              Param #   \n",
      "=================================================================\n",
      "embedding_5 (Embedding)      (None, 450, 100)          2000000   \n",
      "_________________________________________________________________\n",
      "cu_dnngru_1 (CuDNNGRU)       (None, 450, 128)          88320     \n",
      "_________________________________________________________________\n",
      "cu_dnngru_2 (CuDNNGRU)       (None, 450, 64)           37248     \n",
      "_________________________________________________________________\n",
      "cu_dnngru_3 (CuDNNGRU)       (None, 32)                9408      \n",
      "_________________________________________________________________\n",
      "dropout_9 (Dropout)          (None, 32)                0         \n",
      "_________________________________________________________________\n",
      "batch_normalization_9 (Batch (None, 32)                128       \n",
      "_________________________________________________________________\n",
      "dense_9 (Dense)              (None, 128)               4224      \n",
      "_________________________________________________________________\n",
      "dropout_10 (Dropout)         (None, 128)               0         \n",
      "_________________________________________________________________\n",
      "batch_normalization_10 (Batc (None, 128)               512       \n",
      "_________________________________________________________________\n",
      "dense_10 (Dense)             (None, 21)                2709      \n",
      "=================================================================\n",
      "Total params: 2,142,549\n",
      "Trainable params: 2,142,229\n",
      "Non-trainable params: 320\n",
      "_________________________________________________________________\n"
     ]
    }
   ],
   "source": [
    "adam = Adam(lr=0.001)\n",
    "#adagrad = Adagrad()\n",
    "#adadelta = Adadelta()\n",
    "#nadam = Nadam(lr=0.001)\n",
    "cuDNN_GRU_model.compile(loss = 'categorical_crossentropy',\n",
    "             optimizer = adam,\n",
    "             metrics = ['accuracy']\n",
    "             )\n",
    "\n",
    "cuDNN_GRU_model.summary()"
   ]
  },
  {
   "cell_type": "code",
   "execution_count": 77,
   "metadata": {},
   "outputs": [],
   "source": [
    "reduce_lr = callbacks.ReduceLROnPlateau(monitor= metric, factor= 0.1,\n",
    "                                       patience= 10, min_lr= 0.00001,\n",
    "                                       verbose= 1)\n",
    "\n",
    "early_stop = callbacks.EarlyStopping(monitor= metric, mode= 'auto',\n",
    "                                     patience= 15,\n",
    "                                    verbose= 1)\n",
    "                                     #restore_best_weights= True)\n",
    "\n",
    "#file_path = \"cnn4_weights.{epoch:02d}-{val_loss:.2f}.hdf5\"\n",
    "file_path = \"cudnn_gru_weights.hdf5\"\n",
    "model_chkpt = callbacks.ModelCheckpoint(filepath=file_path,monitor= metric, save_best_only=True)"
   ]
  },
  {
   "cell_type": "code",
   "execution_count": 78,
   "metadata": {},
   "outputs": [
    {
     "name": "stdout",
     "output_type": "stream",
     "text": [
      "Train on 38959 samples, validate on 9740 samples\n",
      "Epoch 1/1000\n",
      "38959/38959 [==============================] - 48s 1ms/step - loss: 2.6595 - acc: 0.4353 - val_loss: 3.2530 - val_acc: 0.4230\n",
      "Epoch 2/1000\n",
      "38959/38959 [==============================] - 45s 1ms/step - loss: 1.4954 - acc: 0.5999 - val_loss: 1.3414 - val_acc: 0.6589\n",
      "Epoch 3/1000\n",
      "38959/38959 [==============================] - 44s 1ms/step - loss: 1.2861 - acc: 0.6645 - val_loss: 1.2146 - val_acc: 0.6810\n",
      "Epoch 4/1000\n",
      "38959/38959 [==============================] - 44s 1ms/step - loss: 1.2232 - acc: 0.6833 - val_loss: 1.1312 - val_acc: 0.7071\n",
      "Epoch 5/1000\n",
      "38959/38959 [==============================] - 43s 1ms/step - loss: 1.1800 - acc: 0.6985 - val_loss: 1.1559 - val_acc: 0.7053\n",
      "Epoch 6/1000\n",
      "38959/38959 [==============================] - 42s 1ms/step - loss: 1.1474 - acc: 0.7052 - val_loss: 1.0740 - val_acc: 0.7189\n",
      "Epoch 7/1000\n",
      "38959/38959 [==============================] - 46s 1ms/step - loss: 1.1282 - acc: 0.7096 - val_loss: 1.1103 - val_acc: 0.7072\n",
      "Epoch 8/1000\n",
      "38959/38959 [==============================] - 44s 1ms/step - loss: 1.1038 - acc: 0.7161 - val_loss: 1.0751 - val_acc: 0.7199\n",
      "Epoch 9/1000\n",
      "38959/38959 [==============================] - 44s 1ms/step - loss: 1.0882 - acc: 0.7186 - val_loss: 1.0501 - val_acc: 0.7263\n",
      "Epoch 10/1000\n",
      "38959/38959 [==============================] - 44s 1ms/step - loss: 1.0765 - acc: 0.7212 - val_loss: 1.0702 - val_acc: 0.7133\n",
      "Epoch 11/1000\n",
      "38959/38959 [==============================] - 44s 1ms/step - loss: 1.0618 - acc: 0.7231 - val_loss: 1.0514 - val_acc: 0.7285\n",
      "Epoch 12/1000\n",
      "38959/38959 [==============================] - 44s 1ms/step - loss: 1.0500 - acc: 0.7250 - val_loss: 1.0552 - val_acc: 0.7137\n",
      "Epoch 13/1000\n",
      "38959/38959 [==============================] - 44s 1ms/step - loss: 1.0423 - acc: 0.7258 - val_loss: 1.1178 - val_acc: 0.6995\n",
      "Epoch 14/1000\n",
      "38959/38959 [==============================] - 43s 1ms/step - loss: 1.0263 - acc: 0.7304 - val_loss: 0.9993 - val_acc: 0.7298\n",
      "Epoch 15/1000\n",
      "38959/38959 [==============================] - 44s 1ms/step - loss: 1.0207 - acc: 0.7292 - val_loss: 1.0066 - val_acc: 0.7241\n",
      "Epoch 16/1000\n",
      "38959/38959 [==============================] - 44s 1ms/step - loss: 1.0156 - acc: 0.7334 - val_loss: 0.9875 - val_acc: 0.7382\n",
      "Epoch 17/1000\n",
      "38959/38959 [==============================] - 44s 1ms/step - loss: 1.0054 - acc: 0.7330 - val_loss: 0.9717 - val_acc: 0.7331\n",
      "Epoch 18/1000\n",
      "38959/38959 [==============================] - 44s 1ms/step - loss: 0.9981 - acc: 0.7350 - val_loss: 1.0140 - val_acc: 0.7294\n",
      "Epoch 19/1000\n",
      "38959/38959 [==============================] - 44s 1ms/step - loss: 0.9960 - acc: 0.7362 - val_loss: 0.9834 - val_acc: 0.7311\n",
      "Epoch 20/1000\n",
      "38959/38959 [==============================] - 44s 1ms/step - loss: 0.9847 - acc: 0.7394 - val_loss: 0.9989 - val_acc: 0.7330\n",
      "Epoch 21/1000\n",
      "38959/38959 [==============================] - 45s 1ms/step - loss: 0.9812 - acc: 0.7406 - val_loss: 0.9769 - val_acc: 0.7352\n",
      "Epoch 22/1000\n",
      "38959/38959 [==============================] - 44s 1ms/step - loss: 0.9803 - acc: 0.7399 - val_loss: 0.9927 - val_acc: 0.7331\n",
      "Epoch 23/1000\n",
      "38959/38959 [==============================] - 44s 1ms/step - loss: 0.9751 - acc: 0.7412 - val_loss: 0.9672 - val_acc: 0.7359\n",
      "Epoch 24/1000\n",
      "38959/38959 [==============================] - 44s 1ms/step - loss: 0.9685 - acc: 0.7429 - val_loss: 0.9838 - val_acc: 0.7356\n",
      "Epoch 25/1000\n",
      "38959/38959 [==============================] - 43s 1ms/step - loss: 0.9663 - acc: 0.7424 - val_loss: 0.9562 - val_acc: 0.7391\n",
      "Epoch 26/1000\n",
      "38959/38959 [==============================] - 44s 1ms/step - loss: 0.9562 - acc: 0.7474 - val_loss: 1.0188 - val_acc: 0.7253\n",
      "Epoch 27/1000\n",
      "38959/38959 [==============================] - 44s 1ms/step - loss: 0.9579 - acc: 0.7461 - val_loss: 0.9878 - val_acc: 0.7292\n",
      "Epoch 28/1000\n",
      "38959/38959 [==============================] - 43s 1ms/step - loss: 0.9449 - acc: 0.7474 - val_loss: 0.9653 - val_acc: 0.7418\n",
      "Epoch 29/1000\n",
      "38959/38959 [==============================] - 45s 1ms/step - loss: 0.9469 - acc: 0.7472 - val_loss: 0.9757 - val_acc: 0.7401\n",
      "Epoch 30/1000\n",
      "38959/38959 [==============================] - 45s 1ms/step - loss: 0.9436 - acc: 0.7482 - val_loss: 0.9623 - val_acc: 0.7413\n",
      "Epoch 31/1000\n",
      "38959/38959 [==============================] - 45s 1ms/step - loss: 0.9340 - acc: 0.7506 - val_loss: 0.9593 - val_acc: 0.7407\n",
      "Epoch 32/1000\n",
      "38959/38959 [==============================] - 45s 1ms/step - loss: 0.9330 - acc: 0.7509 - val_loss: 0.9655 - val_acc: 0.7372\n",
      "Epoch 33/1000\n",
      "38959/38959 [==============================] - 45s 1ms/step - loss: 0.9340 - acc: 0.7501 - val_loss: 0.9792 - val_acc: 0.7379\n",
      "Epoch 34/1000\n",
      "38959/38959 [==============================] - 45s 1ms/step - loss: 0.9196 - acc: 0.7549 - val_loss: 0.9767 - val_acc: 0.7361\n",
      "Epoch 35/1000\n",
      "38959/38959 [==============================] - 45s 1ms/step - loss: 0.9174 - acc: 0.7540 - val_loss: 0.9912 - val_acc: 0.7350\n",
      "Epoch 36/1000\n",
      "38959/38959 [==============================] - 45s 1ms/step - loss: 0.9228 - acc: 0.7528 - val_loss: 0.9720 - val_acc: 0.7360\n",
      "Epoch 37/1000\n",
      "38959/38959 [==============================] - 46s 1ms/step - loss: 0.9124 - acc: 0.7555 - val_loss: 0.9870 - val_acc: 0.7330\n",
      "Epoch 38/1000\n",
      "38959/38959 [==============================] - 45s 1ms/step - loss: 0.9121 - acc: 0.7579 - val_loss: 0.9835 - val_acc: 0.7421\n",
      "Epoch 39/1000\n",
      "38959/38959 [==============================] - 45s 1ms/step - loss: 0.9112 - acc: 0.7575 - val_loss: 0.9801 - val_acc: 0.7383\n",
      "Epoch 40/1000\n",
      "38959/38959 [==============================] - 45s 1ms/step - loss: 0.9036 - acc: 0.7595 - val_loss: 0.9790 - val_acc: 0.7414\n",
      "Epoch 41/1000\n",
      "38959/38959 [==============================] - 45s 1ms/step - loss: 0.9046 - acc: 0.7624 - val_loss: 0.9819 - val_acc: 0.7352\n",
      "Epoch 42/1000\n",
      "38959/38959 [==============================] - 44s 1ms/step - loss: 0.8949 - acc: 0.7641 - val_loss: 0.9940 - val_acc: 0.7319\n",
      "Epoch 43/1000\n",
      "38959/38959 [==============================] - 45s 1ms/step - loss: 0.8946 - acc: 0.7627 - val_loss: 1.0080 - val_acc: 0.7371 - ETA: 1s - los\n",
      "Epoch 44/1000\n",
      "38959/38959 [==============================] - 45s 1ms/step - loss: 0.8909 - acc: 0.7666 - val_loss: 1.0033 - val_acc: 0.7368\n",
      "Epoch 45/1000\n",
      "38959/38959 [==============================] - 45s 1ms/step - loss: 0.8867 - acc: 0.7674 - val_loss: 1.0165 - val_acc: 0.7345\n",
      "Epoch 46/1000\n",
      "38959/38959 [==============================] - 45s 1ms/step - loss: 0.8848 - acc: 0.7683 - val_loss: 1.0126 - val_acc: 0.7366\n",
      "Epoch 47/1000\n",
      "38959/38959 [==============================] - 44s 1ms/step - loss: 0.8772 - acc: 0.7713 - val_loss: 1.0058 - val_acc: 0.7363\n",
      "Epoch 48/1000\n",
      "38959/38959 [==============================] - 45s 1ms/step - loss: 0.8811 - acc: 0.7718 - val_loss: 1.0049 - val_acc: 0.7341\n",
      "\n",
      "Epoch 00048: ReduceLROnPlateau reducing learning rate to 0.00010000000475.\n",
      "Epoch 49/1000\n",
      "38959/38959 [==============================] - 46s 1ms/step - loss: 0.7227 - acc: 0.8021 - val_loss: 0.9222 - val_acc: 0.7466\n",
      "Epoch 50/1000\n",
      "38959/38959 [==============================] - 44s 1ms/step - loss: 0.6652 - acc: 0.8101 - val_loss: 0.9154 - val_acc: 0.7450\n",
      "Epoch 51/1000\n",
      "38959/38959 [==============================] - 44s 1ms/step - loss: 0.6380 - acc: 0.8134 - val_loss: 0.9288 - val_acc: 0.7432\n",
      "Epoch 52/1000\n",
      "38959/38959 [==============================] - 45s 1ms/step - loss: 0.6164 - acc: 0.8215 - val_loss: 0.9396 - val_acc: 0.7412\n",
      "Epoch 53/1000\n",
      "38959/38959 [==============================] - 45s 1ms/step - loss: 0.6029 - acc: 0.8249 - val_loss: 0.9617 - val_acc: 0.7394\n",
      "Epoch 54/1000\n",
      "38959/38959 [==============================] - 44s 1ms/step - loss: 0.5960 - acc: 0.8266 - val_loss: 0.9688 - val_acc: 0.7397\n",
      "Epoch 55/1000\n",
      "38959/38959 [==============================] - 45s 1ms/step - loss: 0.5809 - acc: 0.8326 - val_loss: 0.9858 - val_acc: 0.7350\n",
      "Epoch 56/1000\n",
      "38959/38959 [==============================] - 44s 1ms/step - loss: 0.5720 - acc: 0.8369 - val_loss: 1.0191 - val_acc: 0.7343\n",
      "Epoch 57/1000\n",
      "38959/38959 [==============================] - 44s 1ms/step - loss: 0.5600 - acc: 0.8435 - val_loss: 1.0362 - val_acc: 0.7330\n",
      "Epoch 58/1000\n",
      "38959/38959 [==============================] - 45s 1ms/step - loss: 0.5478 - acc: 0.8464 - val_loss: 1.0623 - val_acc: 0.7340\n",
      "Epoch 59/1000\n",
      "38959/38959 [==============================] - 44s 1ms/step - loss: 0.5412 - acc: 0.8499 - val_loss: 1.0671 - val_acc: 0.7314\n",
      "\n",
      "Epoch 00059: ReduceLROnPlateau reducing learning rate to 1.0000000475e-05.\n",
      "Epoch 60/1000\n",
      "38959/38959 [==============================] - 45s 1ms/step - loss: 0.5001 - acc: 0.8658 - val_loss: 1.0826 - val_acc: 0.7308\n",
      "Epoch 61/1000\n",
      "38959/38959 [==============================] - 44s 1ms/step - loss: 0.4973 - acc: 0.8662 - val_loss: 1.0881 - val_acc: 0.7300\n",
      "Epoch 62/1000\n",
      "38959/38959 [==============================] - 44s 1ms/step - loss: 0.4905 - acc: 0.8675 - val_loss: 1.0941 - val_acc: 0.7298\n",
      "Epoch 63/1000\n",
      "38959/38959 [==============================] - 44s 1ms/step - loss: 0.4861 - acc: 0.8691 - val_loss: 1.1001 - val_acc: 0.7279\n",
      "Epoch 64/1000\n",
      "38959/38959 [==============================] - 45s 1ms/step - loss: 0.4840 - acc: 0.8707 - val_loss: 1.1023 - val_acc: 0.7285\n",
      "Epoch 00064: early stopping\n"
     ]
    }
   ],
   "source": [
    "history = cuDNN_GRU_model.fit(train_data , train_tensor ,\n",
    "         batch_size = 64, shuffle = True,\n",
    "         epochs=1000,validation_split = 0.2,\n",
    "         callbacks = [reduce_lr,early_stop,model_chkpt]\n",
    "         )"
   ]
  },
  {
   "cell_type": "code",
   "execution_count": 79,
   "metadata": {},
   "outputs": [],
   "source": [
    "train_acc = history.history['acc']\n",
    "train_loss = history.history['loss']\n",
    "\n",
    "val_acc = history.history['val_acc']\n",
    "val_loss = history.history['val_loss']"
   ]
  },
  {
   "cell_type": "code",
   "execution_count": 80,
   "metadata": {},
   "outputs": [
    {
     "data": {
      "image/png": "[encoded data removed]",
      "text/plain": [
       "<Figure size 1440x360 with 2 Axes>"
      ]
     },
     "metadata": {},
     "output_type": "display_data"
    }
   ],
   "source": [
    "plt.figure(figsize=(20,5))\n",
    "ax = plt.subplot(1,2,1)\n",
    "ax.set_title(\"Model Loss\")\n",
    "plt.xlabel('Epochs')\n",
    "plt.ylabel('Loss')\n",
    "plt.plot(train_loss , label =\"Train Loss\")\n",
    "plt.plot(val_loss, label =\"Val Loss\")\n",
    "plt.legend()\n",
    "\n",
    "ax = plt.subplot(1,2,2)\n",
    "ax.set_title(\"Model Accuracy\")\n",
    "plt.xlabel('Epochs')\n",
    "plt.ylabel('Accuracy')\n",
    "plt.plot(train_acc, label = \"Train Accuracy\")\n",
    "plt.plot(val_acc, label = \"Val Accuracy\")\n",
    "plt.legend()\n",
    "plt.show();"
   ]
  },
  {
   "cell_type": "code",
   "execution_count": 81,
   "metadata": {},
   "outputs": [
    {
     "name": "stdout",
     "output_type": "stream",
     "text": [
      "48699/48699 [==============================] - 42s 858us/step\n",
      "('Train Loss: 0.551755', 'Train Accuracy: 0.857492')\n"
     ]
    }
   ],
   "source": [
    "best_weights_gru = load_model(file_path)\n",
    "evaluation = best_weights_gru.evaluate(train_data,train_tensor)\n",
    "print(\"Train Loss: %f\"%evaluation[0] , \"Train Accuracy: %f\"%evaluation[1])"
   ]
  },
  {
   "cell_type": "code",
   "execution_count": 82,
   "metadata": {},
   "outputs": [],
   "source": [
    "#plot_model(model, to_file='model.png')"
   ]
  },
  {
   "cell_type": "markdown",
   "metadata": {},
   "source": [
    "### Write results to csv for submission"
   ]
  },
  {
   "cell_type": "code",
   "execution_count": 83,
   "metadata": {},
   "outputs": [],
   "source": [
    "test_preds = best_weights_gru.predict_classes(test_data)\n",
    "result1_df = pd.DataFrame({\"id\" : test[\"id\"]})\n",
    "result1_df[\"categories\"] = label_encoder.classes_[test_preds]\n",
    "#print(result1_df.shape)\n",
    "#result1_df.head()\n",
    "result1_df.to_csv(\"result3.csv\", index=False)"
   ]
  }
 ],
 "metadata": {
  "kernelspec": {
   "display_name": "Python 3",
   "language": "python",
   "name": "python3"
  },
  "language_info": {
   "codemirror_mode": {
    "name": "ipython",
    "version": 3
   },
   "file_extension": ".py",
   "mimetype": "text/x-python",
   "name": "python",
   "nbconvert_exporter": "python",
   "pygments_lexer": "ipython3",
   "version": "3.6.4"
  },
  "varInspector": {
   "cols": {
    "lenName": 16,
    "lenType": 16,
    "lenVar": 40
   },
   "kernels_config": {
    "python": {
     "delete_cmd_postfix": "",
     "delete_cmd_prefix": "del ",
     "library": "var_list.py",
     "varRefreshCmd": "print(var_dic_list())"
    },
    "r": {
     "delete_cmd_postfix": ") ",
     "delete_cmd_prefix": "rm(",
     "library": "var_list.r",
     "varRefreshCmd": "cat(var_dic_list()) "
    }
   },
   "types_to_exclude": [
    "module",
    "function",
    "builtin_function_or_method",
    "instance",
    "_Feature"
   ],
   "window_display": false
  }
 },
 "nbformat": 4,
 "nbformat_minor": 2
}
